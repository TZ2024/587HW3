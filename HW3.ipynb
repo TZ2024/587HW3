{
  "cells": [
    {
      "cell_type": "markdown",
      "metadata": {
        "id": "view-in-github",
        "colab_type": "text"
      },
      "source": [
        "<a href=\"https://colab.research.google.com/github/TZ2024/587HW3/blob/main/HW3.ipynb\" target=\"_parent\"><img src=\"https://colab.research.google.com/assets/colab-badge.svg\" alt=\"Open In Colab\"/></a>"
      ]
    },
    {
      "cell_type": "markdown",
      "source": [
        "# Question1:"
      ],
      "metadata": {
        "id": "SAcOrqQ4IDqC"
      }
    },
    {
      "cell_type": "code",
      "execution_count": null,
      "metadata": {
        "id": "OUCQ8XswDR_p"
      },
      "outputs": [],
      "source": [
        "#create a age list: 13, 15, 16, 16, 19, 20, 20, 21, 22, 22, 25, 25, 25, 25, 30, 33, 33, 35, 35, 35, 35, 36, 40, 45, 46, 52, 70\n",
        "age_list = [13, 15, 16, 16, 19, 20, 20, 21, 22, 22, 25, 25, 25, 25, 30, 33, 33, 35, 35, 35, 35, 36, 40, 45, 46, 52, 70]"
      ]
    },
    {
      "cell_type": "markdown",
      "metadata": {
        "id": "gWWVMlQaDR_q"
      },
      "source": [
        "(a) Use smoothing by bin means to smooth the above data, using a bin depth of 3.\n",
        "The first three values are 13, 15, 16.\n",
        "Their average is 14.67. Replace all three values by 14.67.\n",
        "The next three values are 16, 19, 20. Their average is 18.33. Replace them by 18.33.\n",
        "Do this for the entire list.\n",
        "After that, plot both the original data and the smoothed data.#(a) Use smoothing by bin means to smooth the above data, using a bin depth of 3."
      ]
    },
    {
      "cell_type": "code",
      "execution_count": null,
      "metadata": {
        "id": "_6Q51vt1DR_s",
        "outputId": "cf4995cd-03c3-46b4-b741-d218a6b36d61",
        "colab": {
          "base_uri": "https://localhost:8080/"
        }
      },
      "outputs": [
        {
          "output_type": "stream",
          "name": "stdout",
          "text": [
            "[14.666666666666666, 14.666666666666666, 14.666666666666666, 18.333333333333332, 18.333333333333332, 18.333333333333332, 21.0, 21.0, 21.0, 24.0, 24.0, 24.0, 26.666666666666668, 26.666666666666668, 26.666666666666668, 33.666666666666664, 33.666666666666664, 33.666666666666664, 35.0, 35.0, 35.0, 40.333333333333336, 40.333333333333336, 40.333333333333336, 56.0, 56.0, 56.0]\n"
          ]
        }
      ],
      "source": [
        "age_list_bin =[]\n",
        "for i in range(0, len(age_list), 3):\n",
        "    bin_mean = sum(age_list[i:i+3])/3\n",
        "    age_list_bin[i:i+3] = [bin_mean]*3\n",
        "print(age_list_bin)"
      ]
    },
    {
      "cell_type": "code",
      "execution_count": null,
      "metadata": {
        "id": "mjiR8r1VDR_u",
        "outputId": "87390b28-96b2-4713-c57b-fb5bade728b2",
        "colab": {
          "base_uri": "https://localhost:8080/",
          "height": 430
        }
      },
      "outputs": [
        {
          "output_type": "display_data",
          "data": {
            "text/plain": [
              "<Figure size 640x480 with 1 Axes>"
            ],
            "image/png": "[encoded data removed]"
          },
          "metadata": {}
        }
      ],
      "source": [
        "#plot the smoothed age_list\n",
        "import matplotlib.pyplot as plt\n",
        "plt.plot(age_list_bin)\n",
        "plt.show()"
      ]
    },
    {
      "cell_type": "markdown",
      "metadata": {
        "id": "P5HjsK4WDR_v"
      },
      "source": [
        "(b)Use IQR measure to determine if there are any outliers in this data."
      ]
    },
    {
      "cell_type": "code",
      "execution_count": null,
      "metadata": {
        "id": "4-MSi4HTDR_v",
        "outputId": "3cff5eaf-548c-4bdc-b97b-8e54c6f8d373",
        "colab": {
          "base_uri": "https://localhost:8080/"
        }
      },
      "outputs": [
        {
          "output_type": "stream",
          "name": "stdout",
          "text": [
            "Q1: 20.5 Q3: 35.0 IQR: 14.5\n",
            "outliers: [70]\n"
          ]
        }
      ],
      "source": [
        "#Use IQR measure to determine if there are any outliers in this data.\n",
        "import numpy as np\n",
        "Q1 = np.percentile(age_list, 25)\n",
        "Q3 = np.percentile(age_list, 75)\n",
        "IQR = Q3 - Q1\n",
        "print('Q1:', Q1, 'Q3:', Q3, 'IQR:', IQR)\n",
        "outliers = [x for x in age_list if x < Q1 - 1.5*IQR or x > Q3 + 1.5*IQR]\n",
        "print('outliers:', outliers)"
      ]
    },
    {
      "cell_type": "markdown",
      "metadata": {
        "id": "oQzWrg5SDR_w"
      },
      "source": [
        "(c) Use min-max normalization to transform the value 35 for age onto the range [0.0, 1.0]."
      ]
    },
    {
      "cell_type": "code",
      "execution_count": null,
      "metadata": {
        "id": "DQerFC59DR_x",
        "outputId": "b6f59e00-03a9-4a35-ff50-92b5f0e49886",
        "colab": {
          "base_uri": "https://localhost:8080/"
        }
      },
      "outputs": [
        {
          "output_type": "stream",
          "name": "stdout",
          "text": [
            "age_normalized: 0.38596491228070173\n"
          ]
        }
      ],
      "source": [
        "#Use min-max normalization to transform the value 35 for age onto the range [0.0, 1.0].\n",
        "max_age = max(age_list)\n",
        "min_age = min(age_list)\n",
        "age = 35\n",
        "age_normalized = (age - min_age)/(max_age - min_age)\n",
        "print('age_normalized:', age_normalized)"
      ]
    },
    {
      "cell_type": "markdown",
      "metadata": {
        "id": "r5r5VpxhDR_y"
      },
      "source": [
        "(d) Use z-score normalization to transform the value 35 for age?"
      ]
    },
    {
      "cell_type": "code",
      "execution_count": null,
      "metadata": {
        "id": "W2HdKYW_DR_y",
        "outputId": "96285def-9854-4460-9d62-34e6e3411196",
        "colab": {
          "base_uri": "https://localhost:8080/"
        }
      },
      "outputs": [
        {
          "output_type": "stream",
          "name": "stdout",
          "text": [
            "age_normalized: 0.3966110348537352\n"
          ]
        }
      ],
      "source": [
        "#Use z-score normalization to transform the value 35 for age?\n",
        "mean_age = np.mean(age_list)\n",
        "std_age = np.std(age_list)\n",
        "age_normalized = (age - mean_age)/std_age\n",
        "print('age_normalized:', age_normalized)\n"
      ]
    },
    {
      "cell_type": "markdown",
      "metadata": {
        "id": "LBa9BGHIDR_z"
      },
      "source": [
        "（e） Use normalization by decimal scaling to transform the value 35 for age."
      ]
    },
    {
      "cell_type": "code",
      "execution_count": null,
      "metadata": {
        "id": "tNqIPW5iDR_0",
        "outputId": "bbac8eba-36b2-44ba-feef-7afc4d35381c",
        "colab": {
          "base_uri": "https://localhost:8080/"
        }
      },
      "outputs": [
        {
          "output_type": "stream",
          "name": "stdout",
          "text": [
            "age_normalized: 0.35\n"
          ]
        }
      ],
      "source": [
        "# Use normalization by decimal scaling to transform the value 35 for age.\n",
        "max_age = max(age_list)\n",
        "age_normalized = age/10**len(str(max_age))\n",
        "print('age_normalized:', age_normalized)\n"
      ]
    },
    {
      "cell_type": "markdown",
      "metadata": {
        "id": "hHPnvPD9DR_1"
      },
      "source": [
        "Question 2\n",
        "\n",
        "\n",
        "Write a function in your preferred languagewhich can take a data vector and do min-max normalization by transforming\n",
        "data onto a desired range. For example, it should be able get the age data above and map it between any two numbers.\n",
        "(foo (a, min_new, max_new) where a is an one-dimensional array)"
      ]
    },
    {
      "cell_type": "code",
      "execution_count": null,
      "metadata": {
        "id": "1UPqEUfeDR_1"
      },
      "outputs": [],
      "source": [
        "def transform_age(age_list, min_new, max_new):\n",
        "    max_age = max(age_list)\n",
        "    min_age = min(age_list)\n",
        "    age_list_normalized = [(x - min_age)/(max_age - min_age)*(max_new - min_new) + min_new for x in age_list]\n",
        "    return age_list_normalized"
      ]
    },
    {
      "cell_type": "code",
      "source": [
        "min_new = 13\n",
        "max_new = 70\n",
        "\n",
        "age_list_normalized = transform_age(age_list, min_new, max_new)\n",
        "age_list_normalized"
      ],
      "metadata": {
        "colab": {
          "base_uri": "https://localhost:8080/"
        },
        "id": "yQET3DrAX1cA",
        "outputId": "a2de2492-60e2-4533-ca78-f77516672169"
      },
      "execution_count": null,
      "outputs": [
        {
          "output_type": "execute_result",
          "data": {
            "text/plain": [
              "[13.0,\n",
              " 15.0,\n",
              " 16.0,\n",
              " 16.0,\n",
              " 19.0,\n",
              " 20.0,\n",
              " 20.0,\n",
              " 21.0,\n",
              " 22.0,\n",
              " 22.0,\n",
              " 25.0,\n",
              " 25.0,\n",
              " 25.0,\n",
              " 25.0,\n",
              " 30.0,\n",
              " 33.0,\n",
              " 33.0,\n",
              " 35.0,\n",
              " 35.0,\n",
              " 35.0,\n",
              " 35.0,\n",
              " 36.0,\n",
              " 40.0,\n",
              " 45.0,\n",
              " 46.0,\n",
              " 52.0,\n",
              " 70.0]"
            ]
          },
          "metadata": {},
          "execution_count": 77
        }
      ]
    },
    {
      "cell_type": "markdown",
      "metadata": {
        "id": "cEGCHpxvDR_2"
      },
      "source": [
        "Question3：\n"
      ]
    },
    {
      "cell_type": "markdown",
      "metadata": {
        "id": "azH0Vm9BDR_3"
      },
      "source": [
        "Using information gain on the data in Table 1, do calculations for two levels of a decision tree which decides whether\n",
        "a person is senior or junior. Please show your calculations and clearly write down your junior and senior counts not\n",
        "to confuse yourself. Note that you need to calculate the information gain for all attributes (department, age, salary)\n",
        "and pick the one to start your tree. In your subsets of your data, you’ll perform the same operation for the attributes\n",
        "available. (You can use a computing environment to write the mathematical expressions. i.e., p∗logp,(1/2)∗log2(1/2)\n",
        ")"
      ]
    },
    {
      "cell_type": "markdown",
      "source": [],
      "metadata": {
        "id": "mIdFBaAW7NcD"
      }
    },
    {
      "cell_type": "markdown",
      "source": [
        "Question4：\n",
        "Using the decision tree you generate if-then rules."
      ],
      "metadata": {
        "id": "CXjpUWuK7Fp2"
      }
    },
    {
      "cell_type": "code",
      "source": [],
      "metadata": {
        "id": "iHp3qa2a7OSg"
      },
      "execution_count": null,
      "outputs": []
    },
    {
      "cell_type": "markdown",
      "source": [],
      "metadata": {
        "id": "2AultyK87QHO"
      }
    }
  ],
  "metadata": {
    "kernelspec": {
      "display_name": "base",
      "language": "python",
      "name": "python3"
    },
    "language_info": {
      "codemirror_mode": {
        "name": "ipython",
        "version": 3
      },
      "file_extension": ".py",
      "mimetype": "text/x-python",
      "name": "python",
      "nbconvert_exporter": "python",
      "pygments_lexer": "ipython3",
      "version": "3.11.5"
    },
    "colab": {
      "provenance": [],
      "include_colab_link": true
    }
  },
  "nbformat": 4,
  "nbformat_minor": 0
}